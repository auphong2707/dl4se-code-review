{
 "cells": [
  {
   "cell_type": "markdown",
   "metadata": {},
   "source": [
    "# Exploratory Data Analysis"
   ]
  },
  {
   "cell_type": "code",
   "execution_count": 98,
   "metadata": {},
   "outputs": [],
   "source": [
    "from collections import Counter\n",
    "from pprint import pprint\n",
    "\n",
    "import pandas as pd\n",
    "import matplotlib.pyplot as plt\n",
    "import seaborn as sns"
   ]
  },
  {
   "cell_type": "code",
   "execution_count": 25,
   "metadata": {},
   "outputs": [],
   "source": [
    "train = pd.read_json('Review-Comment-Generation/trans_data/train.jsonl', lines=True)\n",
    "val = pd.read_json('Review-Comment-Generation/trans_data/val.jsonl', lines=True)\n",
    "test = pd.read_json('Review-Comment-Generation/trans_data/test.jsonl', lines=True)\n",
    "\n",
    "joined_df = pd.concat([train, val, test])"
   ]
  },
  {
   "cell_type": "markdown",
   "metadata": {},
   "source": [
    "## Basic Analysis"
   ]
  },
  {
   "cell_type": "markdown",
   "metadata": {},
   "source": [
    "### Check basic information"
   ]
  },
  {
   "cell_type": "markdown",
   "metadata": {},
   "source": [
    "Check shapes:"
   ]
  },
  {
   "cell_type": "code",
   "execution_count": 9,
   "metadata": {},
   "outputs": [
    {
     "name": "stdout",
     "output_type": "stream",
     "text": [
      "Shape of train: (13756, 2)\n",
      "Shape of val: (1719, 2)\n",
      "Shape of test: (1719, 2)\n"
     ]
    }
   ],
   "source": [
    "print(\"Shape of train:\", train.shape)\n",
    "print(\"Shape of val:\", val.shape)\n",
    "print(\"Shape of test:\", test.shape)"
   ]
  },
  {
   "cell_type": "markdown",
   "metadata": {},
   "source": [
    "Check features:"
   ]
  },
  {
   "cell_type": "code",
   "execution_count": 12,
   "metadata": {},
   "outputs": [
    {
     "name": "stdout",
     "output_type": "stream",
     "text": [
      "code_tokens\n",
      "docstring_tokens\n"
     ]
    }
   ],
   "source": [
    "print(*train.columns.join(val.columns).join(test.columns), sep='\\n')"
   ]
  },
  {
   "cell_type": "markdown",
   "metadata": {},
   "source": [
    "### Check heads and tails"
   ]
  },
  {
   "cell_type": "markdown",
   "metadata": {},
   "source": [
    "Train heads and tails:"
   ]
  },
  {
   "cell_type": "code",
   "execution_count": 13,
   "metadata": {},
   "outputs": [
    {
     "data": {
      "text/html": [
       "<div>\n",
       "<style scoped>\n",
       "    .dataframe tbody tr th:only-of-type {\n",
       "        vertical-align: middle;\n",
       "    }\n",
       "\n",
       "    .dataframe tbody tr th {\n",
       "        vertical-align: top;\n",
       "    }\n",
       "\n",
       "    .dataframe thead th {\n",
       "        text-align: right;\n",
       "    }\n",
       "</style>\n",
       "<table border=\"1\" class=\"dataframe\">\n",
       "  <thead>\n",
       "    <tr style=\"text-align: right;\">\n",
       "      <th></th>\n",
       "      <th>code_tokens</th>\n",
       "      <th>docstring_tokens</th>\n",
       "    </tr>\n",
       "  </thead>\n",
       "  <tbody>\n",
       "    <tr>\n",
       "      <th>0</th>\n",
       "      <td>[protected, static, String, commentFormat(Stri...</td>\n",
       "      <td>[String.isEmpty(), is, avaible, only, as, of, ...</td>\n",
       "    </tr>\n",
       "    <tr>\n",
       "      <th>1</th>\n",
       "      <td>[public, PageTitle(final, String, namespace,, ...</td>\n",
       "      <td>[Does, \\s, include, zero-width, non-joiner, an...</td>\n",
       "    </tr>\n",
       "    <tr>\n",
       "      <th>2</th>\n",
       "      <td>[public, void, onCatch(Throwable, caught), {, ...</td>\n",
       "      <td>[Should, we, log, or, re-throw, any, other, su...</td>\n",
       "    </tr>\n",
       "    <tr>\n",
       "      <th>3</th>\n",
       "      <td>[public, PageTitle(final, String, namespace,, ...</td>\n",
       "      <td>[You, could, collapse, this, and, the, new, co...</td>\n",
       "    </tr>\n",
       "    <tr>\n",
       "      <th>4</th>\n",
       "      <td>[public, void, bookmarkPage(), {, new, Bookmar...</td>\n",
       "      <td>[Do, we, really, need, a, toast, for, \"bookmar...</td>\n",
       "    </tr>\n",
       "    <tr>\n",
       "      <th>5</th>\n",
       "      <td>[public, void, setEnabled(boolean, enabled), {...</td>\n",
       "      <td>[Always, enclose, if, (and, other, conditional...</td>\n",
       "    </tr>\n",
       "    <tr>\n",
       "      <th>6</th>\n",
       "      <td>[public, void, onSaveInstanceState(Bundle, out...</td>\n",
       "      <td>[Is, this, being, read, anywhere?, plus, we, s...</td>\n",
       "    </tr>\n",
       "    <tr>\n",
       "      <th>7</th>\n",
       "      <td>[public, void, onChangeTextSize(ChangeTextSize...</td>\n",
       "      <td>[I, would, probably, drop, the, calculation,, ...</td>\n",
       "    </tr>\n",
       "    <tr>\n",
       "      <th>8</th>\n",
       "      <td>[private, boolean, shouldSkip(), {, //, Mainta...</td>\n",
       "      <td>[This, whole, last, block, from, line, 187, to...</td>\n",
       "    </tr>\n",
       "    <tr>\n",
       "      <th>9</th>\n",
       "      <td>[private, LanguagesAdapter(List&lt;String&gt;, langu...</td>\n",
       "      <td>[A, defensive, copy, of, the, list, would, be,...</td>\n",
       "    </tr>\n",
       "  </tbody>\n",
       "</table>\n",
       "</div>"
      ],
      "text/plain": [
       "                                         code_tokens  \\\n",
       "0  [protected, static, String, commentFormat(Stri...   \n",
       "1  [public, PageTitle(final, String, namespace,, ...   \n",
       "2  [public, void, onCatch(Throwable, caught), {, ...   \n",
       "3  [public, PageTitle(final, String, namespace,, ...   \n",
       "4  [public, void, bookmarkPage(), {, new, Bookmar...   \n",
       "5  [public, void, setEnabled(boolean, enabled), {...   \n",
       "6  [public, void, onSaveInstanceState(Bundle, out...   \n",
       "7  [public, void, onChangeTextSize(ChangeTextSize...   \n",
       "8  [private, boolean, shouldSkip(), {, //, Mainta...   \n",
       "9  [private, LanguagesAdapter(List<String>, langu...   \n",
       "\n",
       "                                    docstring_tokens  \n",
       "0  [String.isEmpty(), is, avaible, only, as, of, ...  \n",
       "1  [Does, \\s, include, zero-width, non-joiner, an...  \n",
       "2  [Should, we, log, or, re-throw, any, other, su...  \n",
       "3  [You, could, collapse, this, and, the, new, co...  \n",
       "4  [Do, we, really, need, a, toast, for, \"bookmar...  \n",
       "5  [Always, enclose, if, (and, other, conditional...  \n",
       "6  [Is, this, being, read, anywhere?, plus, we, s...  \n",
       "7  [I, would, probably, drop, the, calculation,, ...  \n",
       "8  [This, whole, last, block, from, line, 187, to...  \n",
       "9  [A, defensive, copy, of, the, list, would, be,...  "
      ]
     },
     "execution_count": 13,
     "metadata": {},
     "output_type": "execute_result"
    }
   ],
   "source": [
    "train.head(10)"
   ]
  },
  {
   "cell_type": "code",
   "execution_count": 14,
   "metadata": {},
   "outputs": [
    {
     "data": {
      "text/html": [
       "<div>\n",
       "<style scoped>\n",
       "    .dataframe tbody tr th:only-of-type {\n",
       "        vertical-align: middle;\n",
       "    }\n",
       "\n",
       "    .dataframe tbody tr th {\n",
       "        vertical-align: top;\n",
       "    }\n",
       "\n",
       "    .dataframe thead th {\n",
       "        text-align: right;\n",
       "    }\n",
       "</style>\n",
       "<table border=\"1\" class=\"dataframe\">\n",
       "  <thead>\n",
       "    <tr style=\"text-align: right;\">\n",
       "      <th></th>\n",
       "      <th>code_tokens</th>\n",
       "      <th>docstring_tokens</th>\n",
       "    </tr>\n",
       "  </thead>\n",
       "  <tbody>\n",
       "    <tr>\n",
       "      <th>13746</th>\n",
       "      <td>[public, ParseGeoPoint, getLocation(), {, retu...</td>\n",
       "      <td>[Change, to, getParseGeoPoint(\"location\"), so,...</td>\n",
       "    </tr>\n",
       "    <tr>\n",
       "      <th>13747</th>\n",
       "      <td>[public, static, UserFragment, newInstance(Str...</td>\n",
       "      <td>[Keep, extra, in, this, file.]</td>\n",
       "    </tr>\n",
       "    <tr>\n",
       "      <th>13748</th>\n",
       "      <td>[public, void, loadRepository(boolean, refresh...</td>\n",
       "      <td>[private, Also,, should, put, the, 3, load, me...</td>\n",
       "    </tr>\n",
       "    <tr>\n",
       "      <th>13749</th>\n",
       "      <td>[public, void, reloadData(), {, setContentShow...</td>\n",
       "      <td>[private]</td>\n",
       "    </tr>\n",
       "    <tr>\n",
       "      <th>13750</th>\n",
       "      <td>[public, static, NotificationListFragment, new...</td>\n",
       "      <td>[This, change, isn't, really, needed,, right?]</td>\n",
       "    </tr>\n",
       "    <tr>\n",
       "      <th>13751</th>\n",
       "      <td>[protected, void, onInitExtras(Bundle, extras)...</td>\n",
       "      <td>[Oops,, right.]</td>\n",
       "    </tr>\n",
       "    <tr>\n",
       "      <th>13752</th>\n",
       "      <td>[protected, Fragment, getFragment(int, positio...</td>\n",
       "      <td>[if, (position, ==, 0), probably, better, expr...</td>\n",
       "    </tr>\n",
       "    <tr>\n",
       "      <th>13753</th>\n",
       "      <td>[int, read(), {, if, (this.hasNext(), ==, fals...</td>\n",
       "      <td>[`if, (!this.hasNext())`]</td>\n",
       "    </tr>\n",
       "    <tr>\n",
       "      <th>13754</th>\n",
       "      <td>[public, void, testIntersectsOnGeometryCollect...</td>\n",
       "      <td>[I, modified, the, test, to, ensure, that, if,...</td>\n",
       "    </tr>\n",
       "    <tr>\n",
       "      <th>13755</th>\n",
       "      <td>[public, Unit(String, unitName,, boolean, enem...</td>\n",
       "      <td>[Que, es, este, 1?]</td>\n",
       "    </tr>\n",
       "  </tbody>\n",
       "</table>\n",
       "</div>"
      ],
      "text/plain": [
       "                                             code_tokens  \\\n",
       "13746  [public, ParseGeoPoint, getLocation(), {, retu...   \n",
       "13747  [public, static, UserFragment, newInstance(Str...   \n",
       "13748  [public, void, loadRepository(boolean, refresh...   \n",
       "13749  [public, void, reloadData(), {, setContentShow...   \n",
       "13750  [public, static, NotificationListFragment, new...   \n",
       "13751  [protected, void, onInitExtras(Bundle, extras)...   \n",
       "13752  [protected, Fragment, getFragment(int, positio...   \n",
       "13753  [int, read(), {, if, (this.hasNext(), ==, fals...   \n",
       "13754  [public, void, testIntersectsOnGeometryCollect...   \n",
       "13755  [public, Unit(String, unitName,, boolean, enem...   \n",
       "\n",
       "                                        docstring_tokens  \n",
       "13746  [Change, to, getParseGeoPoint(\"location\"), so,...  \n",
       "13747                     [Keep, extra, in, this, file.]  \n",
       "13748  [private, Also,, should, put, the, 3, load, me...  \n",
       "13749                                          [private]  \n",
       "13750     [This, change, isn't, really, needed,, right?]  \n",
       "13751                                    [Oops,, right.]  \n",
       "13752  [if, (position, ==, 0), probably, better, expr...  \n",
       "13753                          [`if, (!this.hasNext())`]  \n",
       "13754  [I, modified, the, test, to, ensure, that, if,...  \n",
       "13755                                [Que, es, este, 1?]  "
      ]
     },
     "execution_count": 14,
     "metadata": {},
     "output_type": "execute_result"
    }
   ],
   "source": [
    "train.tail(10)"
   ]
  },
  {
   "cell_type": "markdown",
   "metadata": {},
   "source": [
    "Validation heads and tails:"
   ]
  },
  {
   "cell_type": "code",
   "execution_count": 15,
   "metadata": {},
   "outputs": [
    {
     "data": {
      "text/html": [
       "<div>\n",
       "<style scoped>\n",
       "    .dataframe tbody tr th:only-of-type {\n",
       "        vertical-align: middle;\n",
       "    }\n",
       "\n",
       "    .dataframe tbody tr th {\n",
       "        vertical-align: top;\n",
       "    }\n",
       "\n",
       "    .dataframe thead th {\n",
       "        text-align: right;\n",
       "    }\n",
       "</style>\n",
       "<table border=\"1\" class=\"dataframe\">\n",
       "  <thead>\n",
       "    <tr style=\"text-align: right;\">\n",
       "      <th></th>\n",
       "      <th>code_tokens</th>\n",
       "      <th>docstring_tokens</th>\n",
       "    </tr>\n",
       "  </thead>\n",
       "  <tbody>\n",
       "    <tr>\n",
       "      <th>0</th>\n",
       "      <td>[public, void, startRuntime(), {, String, temp...</td>\n",
       "      <td>[Setting, the, alias, and, temp, directory, ca...</td>\n",
       "    </tr>\n",
       "    <tr>\n",
       "      <th>1</th>\n",
       "      <td>[public, GWCConfig, getConfig(), {, if, (gsEnv...</td>\n",
       "      <td>[This, bloc, of, code, is, repeated, many, tim...</td>\n",
       "    </tr>\n",
       "    <tr>\n",
       "      <th>2</th>\n",
       "      <td>[private, BlackboardArtifact, createDownloadAr...</td>\n",
       "      <td>[again,, maybe, StringUtils.defaultString()]</td>\n",
       "    </tr>\n",
       "    <tr>\n",
       "      <th>3</th>\n",
       "      <td>[public, IncrementalScoreDirector(IncrementalS...</td>\n",
       "      <td>[I, fear, we, won't, be, able, to, add, this, ...</td>\n",
       "    </tr>\n",
       "    <tr>\n",
       "      <th>4</th>\n",
       "      <td>[public, static, void, copyFile(InputStream, i...</td>\n",
       "      <td>[no, need, for, the, return, statement.]</td>\n",
       "    </tr>\n",
       "    <tr>\n",
       "      <th>5</th>\n",
       "      <td>[protected, void, before(), throws, Throwable,...</td>\n",
       "      <td>[Change, to, `Assert.state(session, !=, null,,...</td>\n",
       "    </tr>\n",
       "    <tr>\n",
       "      <th>6</th>\n",
       "      <td>[private, void, lockImageInDb(), {, final, Dis...</td>\n",
       "      <td>[Not, needed,, the, next, statement, handles, ...</td>\n",
       "    </tr>\n",
       "    <tr>\n",
       "      <th>7</th>\n",
       "      <td>[public, synchronized, void, close(), {, try, ...</td>\n",
       "      <td>[What's, the, motivation, for, swallowing, thi...</td>\n",
       "    </tr>\n",
       "    <tr>\n",
       "      <th>8</th>\n",
       "      <td>[public, void, testFooPing(), {, //, change, l...</td>\n",
       "      <td>[The, logging, actually, happens, on, the, \"cl...</td>\n",
       "    </tr>\n",
       "    <tr>\n",
       "      <th>9</th>\n",
       "      <td>[public, void, searchForProcesses(), throws, E...</td>\n",
       "      <td>[One, empty, line, too, much.]</td>\n",
       "    </tr>\n",
       "  </tbody>\n",
       "</table>\n",
       "</div>"
      ],
      "text/plain": [
       "                                         code_tokens  \\\n",
       "0  [public, void, startRuntime(), {, String, temp...   \n",
       "1  [public, GWCConfig, getConfig(), {, if, (gsEnv...   \n",
       "2  [private, BlackboardArtifact, createDownloadAr...   \n",
       "3  [public, IncrementalScoreDirector(IncrementalS...   \n",
       "4  [public, static, void, copyFile(InputStream, i...   \n",
       "5  [protected, void, before(), throws, Throwable,...   \n",
       "6  [private, void, lockImageInDb(), {, final, Dis...   \n",
       "7  [public, synchronized, void, close(), {, try, ...   \n",
       "8  [public, void, testFooPing(), {, //, change, l...   \n",
       "9  [public, void, searchForProcesses(), throws, E...   \n",
       "\n",
       "                                    docstring_tokens  \n",
       "0  [Setting, the, alias, and, temp, directory, ca...  \n",
       "1  [This, bloc, of, code, is, repeated, many, tim...  \n",
       "2       [again,, maybe, StringUtils.defaultString()]  \n",
       "3  [I, fear, we, won't, be, able, to, add, this, ...  \n",
       "4           [no, need, for, the, return, statement.]  \n",
       "5  [Change, to, `Assert.state(session, !=, null,,...  \n",
       "6  [Not, needed,, the, next, statement, handles, ...  \n",
       "7  [What's, the, motivation, for, swallowing, thi...  \n",
       "8  [The, logging, actually, happens, on, the, \"cl...  \n",
       "9                     [One, empty, line, too, much.]  "
      ]
     },
     "execution_count": 15,
     "metadata": {},
     "output_type": "execute_result"
    }
   ],
   "source": [
    "val.head(10)"
   ]
  },
  {
   "cell_type": "code",
   "execution_count": 16,
   "metadata": {},
   "outputs": [
    {
     "data": {
      "text/html": [
       "<div>\n",
       "<style scoped>\n",
       "    .dataframe tbody tr th:only-of-type {\n",
       "        vertical-align: middle;\n",
       "    }\n",
       "\n",
       "    .dataframe tbody tr th {\n",
       "        vertical-align: top;\n",
       "    }\n",
       "\n",
       "    .dataframe thead th {\n",
       "        text-align: right;\n",
       "    }\n",
       "</style>\n",
       "<table border=\"1\" class=\"dataframe\">\n",
       "  <thead>\n",
       "    <tr style=\"text-align: right;\">\n",
       "      <th></th>\n",
       "      <th>code_tokens</th>\n",
       "      <th>docstring_tokens</th>\n",
       "    </tr>\n",
       "  </thead>\n",
       "  <tbody>\n",
       "    <tr>\n",
       "      <th>1709</th>\n",
       "      <td>[public, String, getTitle(), {, return, this.i...</td>\n",
       "      <td>[`this.id`, -&gt;, `id`]</td>\n",
       "    </tr>\n",
       "    <tr>\n",
       "      <th>1710</th>\n",
       "      <td>[private, void, buildIndex(), {, int, i, =, 0;...</td>\n",
       "      <td>[style, nit:, we, don't, use, braces, around, ...</td>\n",
       "    </tr>\n",
       "    <tr>\n",
       "      <th>1711</th>\n",
       "      <td>[private, URL, deploymentOne(), throws, Throwa...</td>\n",
       "      <td>[Remove, this]</td>\n",
       "    </tr>\n",
       "    <tr>\n",
       "      <th>1712</th>\n",
       "      <td>[public, static, void, initialize(Props, props...</td>\n",
       "      <td>[return, right, away, if, initialized, already?]</td>\n",
       "    </tr>\n",
       "    <tr>\n",
       "      <th>1713</th>\n",
       "      <td>[void, cancel(), {, if, (callback, !=, null), ...</td>\n",
       "      <td>[This, check, can, be, dropped.]</td>\n",
       "    </tr>\n",
       "    <tr>\n",
       "      <th>1714</th>\n",
       "      <td>[protected, Map&lt;K,, V&gt;, copy(Map&lt;K,, V&gt;, sourc...</td>\n",
       "      <td>[I, think, we, could, get, rid, of, the, `altK...</td>\n",
       "    </tr>\n",
       "    <tr>\n",
       "      <th>1715</th>\n",
       "      <td>[protected, void, limitTotalNumberOfCnxns(), t...</td>\n",
       "      <td>[A, graceful, shutdown, would, be, nice., See,...</td>\n",
       "    </tr>\n",
       "    <tr>\n",
       "      <th>1716</th>\n",
       "      <td>[public, static, TLSClientParametersFactory, g...</td>\n",
       "      <td>[Consider, using, a, Singleton, pattern, here....</td>\n",
       "    </tr>\n",
       "    <tr>\n",
       "      <th>1717</th>\n",
       "      <td>[public, static, XmlForm, parse(String, xml,, ...</td>\n",
       "      <td>[Maybe, incorportate, it, into, debug, logging...</td>\n",
       "    </tr>\n",
       "    <tr>\n",
       "      <th>1718</th>\n",
       "      <td>[protected, BitmapFont, newBitmapFont(BitmapFo...</td>\n",
       "      <td>[it, should, use, integer, parameter, instead,...</td>\n",
       "    </tr>\n",
       "  </tbody>\n",
       "</table>\n",
       "</div>"
      ],
      "text/plain": [
       "                                            code_tokens  \\\n",
       "1709  [public, String, getTitle(), {, return, this.i...   \n",
       "1710  [private, void, buildIndex(), {, int, i, =, 0;...   \n",
       "1711  [private, URL, deploymentOne(), throws, Throwa...   \n",
       "1712  [public, static, void, initialize(Props, props...   \n",
       "1713  [void, cancel(), {, if, (callback, !=, null), ...   \n",
       "1714  [protected, Map<K,, V>, copy(Map<K,, V>, sourc...   \n",
       "1715  [protected, void, limitTotalNumberOfCnxns(), t...   \n",
       "1716  [public, static, TLSClientParametersFactory, g...   \n",
       "1717  [public, static, XmlForm, parse(String, xml,, ...   \n",
       "1718  [protected, BitmapFont, newBitmapFont(BitmapFo...   \n",
       "\n",
       "                                       docstring_tokens  \n",
       "1709                              [`this.id`, ->, `id`]  \n",
       "1710  [style, nit:, we, don't, use, braces, around, ...  \n",
       "1711                                     [Remove, this]  \n",
       "1712   [return, right, away, if, initialized, already?]  \n",
       "1713                   [This, check, can, be, dropped.]  \n",
       "1714  [I, think, we, could, get, rid, of, the, `altK...  \n",
       "1715  [A, graceful, shutdown, would, be, nice., See,...  \n",
       "1716  [Consider, using, a, Singleton, pattern, here....  \n",
       "1717  [Maybe, incorportate, it, into, debug, logging...  \n",
       "1718  [it, should, use, integer, parameter, instead,...  "
      ]
     },
     "execution_count": 16,
     "metadata": {},
     "output_type": "execute_result"
    }
   ],
   "source": [
    "val.tail(10)"
   ]
  },
  {
   "cell_type": "markdown",
   "metadata": {},
   "source": [
    "Test heads and tails:"
   ]
  },
  {
   "cell_type": "code",
   "execution_count": 17,
   "metadata": {},
   "outputs": [
    {
     "data": {
      "text/html": [
       "<div>\n",
       "<style scoped>\n",
       "    .dataframe tbody tr th:only-of-type {\n",
       "        vertical-align: middle;\n",
       "    }\n",
       "\n",
       "    .dataframe tbody tr th {\n",
       "        vertical-align: top;\n",
       "    }\n",
       "\n",
       "    .dataframe thead th {\n",
       "        text-align: right;\n",
       "    }\n",
       "</style>\n",
       "<table border=\"1\" class=\"dataframe\">\n",
       "  <thead>\n",
       "    <tr style=\"text-align: right;\">\n",
       "      <th></th>\n",
       "      <th>code_tokens</th>\n",
       "      <th>docstring_tokens</th>\n",
       "    </tr>\n",
       "  </thead>\n",
       "  <tbody>\n",
       "    <tr>\n",
       "      <th>0</th>\n",
       "      <td>[private, static, Set&lt;String&gt;, getRootQualifie...</td>\n",
       "      <td>[I, think, LIBRARY, are, no, more, used]</td>\n",
       "    </tr>\n",
       "    <tr>\n",
       "      <th>1</th>\n",
       "      <td>[public, RuntimeFilterManager(QueryWorkUnit, w...</td>\n",
       "      <td>[Consider, using, `System.lineSeparator()`, in...</td>\n",
       "    </tr>\n",
       "    <tr>\n",
       "      <th>2</th>\n",
       "      <td>[private, void, activateMarkers(), {, if, (!fG...</td>\n",
       "      <td>[ChangeDetailEditor_EGerriTipValue, has, no, m...</td>\n",
       "    </tr>\n",
       "    <tr>\n",
       "      <th>3</th>\n",
       "      <td>[public, void, testCreate(), throws, StripeExc...</td>\n",
       "      <td>[should, be, called, `resource`]</td>\n",
       "    </tr>\n",
       "    <tr>\n",
       "      <th>4</th>\n",
       "      <td>[private, FirewallRule, findById(List&lt;Firewall...</td>\n",
       "      <td>[Just, `return, rule`.]</td>\n",
       "    </tr>\n",
       "    <tr>\n",
       "      <th>5</th>\n",
       "      <td>[public, void, addDownload(String, download){,...</td>\n",
       "      <td>[Should, probably, use, a, Set&lt;String&gt;, instea...</td>\n",
       "    </tr>\n",
       "    <tr>\n",
       "      <th>6</th>\n",
       "      <td>[public, void, copyDetailsFromOtherCuObjectCod...</td>\n",
       "      <td>[Should, this, be, 1, or, null, instead, of, 0?]</td>\n",
       "    </tr>\n",
       "    <tr>\n",
       "      <th>7</th>\n",
       "      <td>[private, void, loadVncData(HasConsoleModel, m...</td>\n",
       "      <td>[You, can, not, be, sure, that, the, value, is...</td>\n",
       "    </tr>\n",
       "    <tr>\n",
       "      <th>8</th>\n",
       "      <td>[private, RuleApplication, applyRule(), {, Sym...</td>\n",
       "      <td>[These, arguments, can, all, go, on, the, same...</td>\n",
       "    </tr>\n",
       "    <tr>\n",
       "      <th>9</th>\n",
       "      <td>[public, void, testPushDownArray(), throws, Ex...</td>\n",
       "      <td>[Why, the, expected, output, was, changed?]</td>\n",
       "    </tr>\n",
       "  </tbody>\n",
       "</table>\n",
       "</div>"
      ],
      "text/plain": [
       "                                         code_tokens  \\\n",
       "0  [private, static, Set<String>, getRootQualifie...   \n",
       "1  [public, RuntimeFilterManager(QueryWorkUnit, w...   \n",
       "2  [private, void, activateMarkers(), {, if, (!fG...   \n",
       "3  [public, void, testCreate(), throws, StripeExc...   \n",
       "4  [private, FirewallRule, findById(List<Firewall...   \n",
       "5  [public, void, addDownload(String, download){,...   \n",
       "6  [public, void, copyDetailsFromOtherCuObjectCod...   \n",
       "7  [private, void, loadVncData(HasConsoleModel, m...   \n",
       "8  [private, RuleApplication, applyRule(), {, Sym...   \n",
       "9  [public, void, testPushDownArray(), throws, Ex...   \n",
       "\n",
       "                                    docstring_tokens  \n",
       "0           [I, think, LIBRARY, are, no, more, used]  \n",
       "1  [Consider, using, `System.lineSeparator()`, in...  \n",
       "2  [ChangeDetailEditor_EGerriTipValue, has, no, m...  \n",
       "3                   [should, be, called, `resource`]  \n",
       "4                            [Just, `return, rule`.]  \n",
       "5  [Should, probably, use, a, Set<String>, instea...  \n",
       "6   [Should, this, be, 1, or, null, instead, of, 0?]  \n",
       "7  [You, can, not, be, sure, that, the, value, is...  \n",
       "8  [These, arguments, can, all, go, on, the, same...  \n",
       "9        [Why, the, expected, output, was, changed?]  "
      ]
     },
     "execution_count": 17,
     "metadata": {},
     "output_type": "execute_result"
    }
   ],
   "source": [
    "test.head(10)"
   ]
  },
  {
   "cell_type": "code",
   "execution_count": 18,
   "metadata": {},
   "outputs": [
    {
     "data": {
      "text/html": [
       "<div>\n",
       "<style scoped>\n",
       "    .dataframe tbody tr th:only-of-type {\n",
       "        vertical-align: middle;\n",
       "    }\n",
       "\n",
       "    .dataframe tbody tr th {\n",
       "        vertical-align: top;\n",
       "    }\n",
       "\n",
       "    .dataframe thead th {\n",
       "        text-align: right;\n",
       "    }\n",
       "</style>\n",
       "<table border=\"1\" class=\"dataframe\">\n",
       "  <thead>\n",
       "    <tr style=\"text-align: right;\">\n",
       "      <th></th>\n",
       "      <th>code_tokens</th>\n",
       "      <th>docstring_tokens</th>\n",
       "    </tr>\n",
       "  </thead>\n",
       "  <tbody>\n",
       "    <tr>\n",
       "      <th>1709</th>\n",
       "      <td>[public, URI, getLocationHeaderAsURI(), {, try...</td>\n",
       "      <td>[Good, catch., I, also, just, spotted, that, a...</td>\n",
       "    </tr>\n",
       "    <tr>\n",
       "      <th>1710</th>\n",
       "      <td>[public, void, setup(Method, method), throws, ...</td>\n",
       "      <td>[This, seems, redundant, to, me, as, we, are, ...</td>\n",
       "    </tr>\n",
       "    <tr>\n",
       "      <th>1711</th>\n",
       "      <td>[public, View, getOverflowMenuAnchor(), {, Vie...</td>\n",
       "      <td>[Any, reason, not, to, check, value, of, the, ...</td>\n",
       "    </tr>\n",
       "    <tr>\n",
       "      <th>1712</th>\n",
       "      <td>[public, List&lt;ResponseInfo&gt;, sendAndPoll(List&lt;...</td>\n",
       "      <td>[I, thought, we, will, catch, the, exception, ...</td>\n",
       "    </tr>\n",
       "    <tr>\n",
       "      <th>1713</th>\n",
       "      <td>[public, void, handleQuotaColumnVisibility(), ...</td>\n",
       "      <td>[As, far, as, I, know,, enums, can, be, used, ...</td>\n",
       "    </tr>\n",
       "    <tr>\n",
       "      <th>1714</th>\n",
       "      <td>[public, CompletableFuture&lt;StaticResource&gt;, ge...</td>\n",
       "      <td>[shouldn't, you, force, the, put?, Otherwise,,...</td>\n",
       "    </tr>\n",
       "    <tr>\n",
       "      <th>1715</th>\n",
       "      <td>[public, void, testSessionTicketsWithTLSv13And...</td>\n",
       "      <td>[OpenSSL, also, supports, it, in, a, similar, ...</td>\n",
       "    </tr>\n",
       "    <tr>\n",
       "      <th>1716</th>\n",
       "      <td>[public, void, setUp(), {, TmfEventMatching.re...</td>\n",
       "      <td>[a, BeforeClass, has, to, be, static, (it, doe...</td>\n",
       "    </tr>\n",
       "    <tr>\n",
       "      <th>1717</th>\n",
       "      <td>[protected, void, updateTitle(String, brand), ...</td>\n",
       "      <td>[Would, it, make, more, sense, to, mark, the, ...</td>\n",
       "    </tr>\n",
       "    <tr>\n",
       "      <th>1718</th>\n",
       "      <td>[public, static, int, getSegmentForKey(Object,...</td>\n",
       "      <td>[I'd, rather, throw, an, exception]</td>\n",
       "    </tr>\n",
       "  </tbody>\n",
       "</table>\n",
       "</div>"
      ],
      "text/plain": [
       "                                            code_tokens  \\\n",
       "1709  [public, URI, getLocationHeaderAsURI(), {, try...   \n",
       "1710  [public, void, setup(Method, method), throws, ...   \n",
       "1711  [public, View, getOverflowMenuAnchor(), {, Vie...   \n",
       "1712  [public, List<ResponseInfo>, sendAndPoll(List<...   \n",
       "1713  [public, void, handleQuotaColumnVisibility(), ...   \n",
       "1714  [public, CompletableFuture<StaticResource>, ge...   \n",
       "1715  [public, void, testSessionTicketsWithTLSv13And...   \n",
       "1716  [public, void, setUp(), {, TmfEventMatching.re...   \n",
       "1717  [protected, void, updateTitle(String, brand), ...   \n",
       "1718  [public, static, int, getSegmentForKey(Object,...   \n",
       "\n",
       "                                       docstring_tokens  \n",
       "1709  [Good, catch., I, also, just, spotted, that, a...  \n",
       "1710  [This, seems, redundant, to, me, as, we, are, ...  \n",
       "1711  [Any, reason, not, to, check, value, of, the, ...  \n",
       "1712  [I, thought, we, will, catch, the, exception, ...  \n",
       "1713  [As, far, as, I, know,, enums, can, be, used, ...  \n",
       "1714  [shouldn't, you, force, the, put?, Otherwise,,...  \n",
       "1715  [OpenSSL, also, supports, it, in, a, similar, ...  \n",
       "1716  [a, BeforeClass, has, to, be, static, (it, doe...  \n",
       "1717  [Would, it, make, more, sense, to, mark, the, ...  \n",
       "1718                [I'd, rather, throw, an, exception]  "
      ]
     },
     "execution_count": 18,
     "metadata": {},
     "output_type": "execute_result"
    }
   ],
   "source": [
    "test.tail(10)"
   ]
  },
  {
   "cell_type": "markdown",
   "metadata": {},
   "source": [
    "### Check count of each Codes and Docstring"
   ]
  },
  {
   "cell_type": "markdown",
   "metadata": {},
   "source": [
    "Codes:"
   ]
  },
  {
   "cell_type": "code",
   "execution_count": 35,
   "metadata": {},
   "outputs": [
    {
     "data": {
      "text/plain": [
       "count    13756.000000\n",
       "mean        26.939445\n",
       "std         15.677888\n",
       "min          3.000000\n",
       "25%         15.000000\n",
       "50%         24.000000\n",
       "75%         35.000000\n",
       "max        189.000000\n",
       "Name: code_tokens, dtype: float64"
      ]
     },
     "execution_count": 35,
     "metadata": {},
     "output_type": "execute_result"
    }
   ],
   "source": [
    "train['code_tokens'].apply(len).describe()"
   ]
  },
  {
   "cell_type": "code",
   "execution_count": 36,
   "metadata": {},
   "outputs": [
    {
     "data": {
      "text/plain": [
       "count    1719.000000\n",
       "mean       26.753345\n",
       "std        15.859677\n",
       "min         3.000000\n",
       "25%        15.000000\n",
       "50%        24.000000\n",
       "75%        35.000000\n",
       "max       206.000000\n",
       "Name: code_tokens, dtype: float64"
      ]
     },
     "execution_count": 36,
     "metadata": {},
     "output_type": "execute_result"
    }
   ],
   "source": [
    "val['code_tokens'].apply(len).describe()"
   ]
  },
  {
   "cell_type": "code",
   "execution_count": 37,
   "metadata": {},
   "outputs": [
    {
     "data": {
      "text/plain": [
       "count    1719.000000\n",
       "mean       26.663758\n",
       "std        15.419845\n",
       "min         2.000000\n",
       "25%        15.000000\n",
       "50%        24.000000\n",
       "75%        35.000000\n",
       "max       119.000000\n",
       "Name: code_tokens, dtype: float64"
      ]
     },
     "execution_count": 37,
     "metadata": {},
     "output_type": "execute_result"
    }
   ],
   "source": [
    "test['code_tokens'].apply(len).describe()"
   ]
  },
  {
   "cell_type": "code",
   "execution_count": 38,
   "metadata": {},
   "outputs": [
    {
     "data": {
      "text/plain": [
       "<Axes: xlabel='code_tokens', ylabel='Count'>"
      ]
     },
     "execution_count": 38,
     "metadata": {},
     "output_type": "execute_result"
    },
    {
     "data": {
      "image/png": "[encoded data removed]",
      "text/plain": [
       "<Figure size 640x480 with 1 Axes>"
      ]
     },
     "metadata": {},
     "output_type": "display_data"
    }
   ],
   "source": [
    "sns.histplot(joined_df['code_tokens'].apply(len))"
   ]
  },
  {
   "cell_type": "markdown",
   "metadata": {},
   "source": [
    "Docstrings:"
   ]
  },
  {
   "cell_type": "code",
   "execution_count": 22,
   "metadata": {},
   "outputs": [
    {
     "data": {
      "text/plain": [
       "count    13756.000000\n",
       "mean        16.043036\n",
       "std         14.728184\n",
       "min          1.000000\n",
       "25%          6.000000\n",
       "50%         12.000000\n",
       "75%         21.000000\n",
       "max        100.000000\n",
       "Name: docstring_tokens, dtype: float64"
      ]
     },
     "execution_count": 22,
     "metadata": {},
     "output_type": "execute_result"
    }
   ],
   "source": [
    "train['docstring_tokens'].apply(len).describe()"
   ]
  },
  {
   "cell_type": "code",
   "execution_count": 39,
   "metadata": {},
   "outputs": [
    {
     "data": {
      "text/plain": [
       "count    1719.000000\n",
       "mean       15.575334\n",
       "std        13.871227\n",
       "min         1.000000\n",
       "25%         6.000000\n",
       "50%        11.000000\n",
       "75%        21.000000\n",
       "max        95.000000\n",
       "Name: docstring_tokens, dtype: float64"
      ]
     },
     "execution_count": 39,
     "metadata": {},
     "output_type": "execute_result"
    }
   ],
   "source": [
    "val['docstring_tokens'].apply(len).describe()"
   ]
  },
  {
   "cell_type": "code",
   "execution_count": 40,
   "metadata": {},
   "outputs": [
    {
     "data": {
      "text/plain": [
       "count    1719.000000\n",
       "mean       15.776614\n",
       "std        14.717167\n",
       "min         1.000000\n",
       "25%         6.000000\n",
       "50%        11.000000\n",
       "75%        21.000000\n",
       "max        99.000000\n",
       "Name: docstring_tokens, dtype: float64"
      ]
     },
     "execution_count": 40,
     "metadata": {},
     "output_type": "execute_result"
    }
   ],
   "source": [
    "test['docstring_tokens'].apply(len).describe()"
   ]
  },
  {
   "cell_type": "code",
   "execution_count": 41,
   "metadata": {},
   "outputs": [
    {
     "data": {
      "text/plain": [
       "<Axes: xlabel='docstring_tokens', ylabel='Count'>"
      ]
     },
     "execution_count": 41,
     "metadata": {},
     "output_type": "execute_result"
    },
    {
     "data": {
      "image/png": "[encoded data removed]",
      "text/plain": [
       "<Figure size 640x480 with 1 Axes>"
      ]
     },
     "metadata": {},
     "output_type": "display_data"
    }
   ],
   "source": [
    "sns.histplot(joined_df['docstring_tokens'].apply(len))"
   ]
  },
  {
   "cell_type": "markdown",
   "metadata": {},
   "source": [
    "## Deep analysis"
   ]
  },
  {
   "cell_type": "markdown",
   "metadata": {},
   "source": [
    "### Check count of each access modifier"
   ]
  },
  {
   "cell_type": "markdown",
   "metadata": {},
   "source": [
    "Private"
   ]
  },
  {
   "cell_type": "code",
   "execution_count": 52,
   "metadata": {},
   "outputs": [
    {
     "name": "stdout",
     "output_type": "stream",
     "text": [
      "Train: 2626 (19%)\n",
      "Val: 349 (20%)\n",
      "Test: 322 (18%)\n"
     ]
    }
   ],
   "source": [
    "train_private_count = train['code_tokens'].apply(lambda x: x if 'private' in x else None).dropna().count()\n",
    "val_private_count = val['code_tokens'].apply(lambda x: x if 'private' in x else None).dropna().count()\n",
    "test_private_count = test['code_tokens'].apply(lambda x: x if 'private' in x else None).dropna().count()\n",
    "\n",
    "\n",
    "print(\"Train:\", train_private_count,  f\"({int(train_private_count / train.shape[0] * 100)}%)\")\n",
    "print(\"Val:\", val_private_count,  f\"({int(val_private_count / val.shape[0] * 100)}%)\")\n",
    "print(\"Test:\", test_private_count,  f\"({int(test_private_count / test.shape[0] * 100)}%)\")"
   ]
  },
  {
   "cell_type": "markdown",
   "metadata": {},
   "source": [
    "Public"
   ]
  },
  {
   "cell_type": "code",
   "execution_count": 53,
   "metadata": {},
   "outputs": [
    {
     "name": "stdout",
     "output_type": "stream",
     "text": [
      "Train: 9326 (67%)\n",
      "Val: 1164 (67%)\n",
      "Test: 1157 (67%)\n"
     ]
    }
   ],
   "source": [
    "train_public_count = train['code_tokens'].apply(lambda x: x if 'public' in x else None).dropna().count()\n",
    "val_public_count = val['code_tokens'].apply(lambda x: x if 'public' in x else None).dropna().count()\n",
    "test_public_count = test['code_tokens'].apply(lambda x: x if 'public' in x else None).dropna().count()\n",
    "\n",
    "\n",
    "print(\"Train:\", train_public_count,  f\"({int(train_public_count / train.shape[0] * 100)}%)\")\n",
    "print(\"Val:\", val_public_count,  f\"({int(val_public_count / val.shape[0] * 100)}%)\")\n",
    "print(\"Test:\", test_public_count,  f\"({int(test_public_count / test.shape[0] * 100)}%)\")"
   ]
  },
  {
   "cell_type": "markdown",
   "metadata": {},
   "source": [
    "Protected"
   ]
  },
  {
   "cell_type": "code",
   "execution_count": 55,
   "metadata": {},
   "outputs": [
    {
     "name": "stdout",
     "output_type": "stream",
     "text": [
      "Train: 1178 (8%)\n",
      "Val: 138 (8%)\n",
      "Test: 142 (8%)\n"
     ]
    }
   ],
   "source": [
    "train_protected_count = train['code_tokens'].apply(lambda x: x if 'protected' in x else None).dropna().count()\n",
    "val_protected_count = val['code_tokens'].apply(lambda x: x if 'protected' in x else None).dropna().count()\n",
    "test_protected_count = test['code_tokens'].apply(lambda x: x if 'protected' in x else None).dropna().count()\n",
    "\n",
    "print(\"Train:\", train_protected_count,  f\"({int(train_protected_count / train.shape[0] * 100)}%)\")\n",
    "print(\"Val:\", val_protected_count,  f\"({int(val_protected_count / val.shape[0] * 100)}%)\")\n",
    "print(\"Test:\", test_protected_count,  f\"({int(test_protected_count / test.shape[0] * 100)}%)\")"
   ]
  },
  {
   "cell_type": "markdown",
   "metadata": {},
   "source": [
    "Default"
   ]
  },
  {
   "cell_type": "code",
   "execution_count": 57,
   "metadata": {},
   "outputs": [
    {
     "name": "stdout",
     "output_type": "stream",
     "text": [
      "Train: 746 (5%)\n",
      "Val: 79 (4%)\n",
      "Test: 110 (6%)\n"
     ]
    }
   ],
   "source": [
    "train_default_count = train['code_tokens'].apply(lambda x: x if not any(modifier in x for modifier in ['protected', 'public', 'private']) else None).dropna().count()\n",
    "val_default_count = val['code_tokens'].apply(lambda x: x if not any(modifier in x for modifier in ['protected', 'public', 'private']) else None).dropna().count()\n",
    "test_default_count = test['code_tokens'].apply(lambda x: x if not any(modifier in x for modifier in ['protected', 'public', 'private']) else None).dropna().count()\n",
    "\n",
    "print(\"Train:\", train_default_count,  f\"({int(train_default_count / train.shape[0] * 100)}%)\")\n",
    "print(\"Val:\", val_default_count,  f\"({int(val_default_count / val.shape[0] * 100)}%)\")\n",
    "print(\"Test:\", test_default_count,  f\"({int(test_default_count / test.shape[0] * 100)}%)\")"
   ]
  },
  {
   "cell_type": "markdown",
   "metadata": {},
   "source": [
    "### Number of unique tokens"
   ]
  },
  {
   "cell_type": "markdown",
   "metadata": {},
   "source": [
    "Codes:"
   ]
  },
  {
   "cell_type": "code",
   "execution_count": 73,
   "metadata": {},
   "outputs": [
    {
     "name": "stdout",
     "output_type": "stream",
     "text": [
      "462403\n"
     ]
    }
   ],
   "source": [
    "code_tokens_list = joined_df['code_tokens'].tolist()\n",
    "code_tokens_list = [item for sublist in code_tokens_list for item in sublist]\n",
    "print(len(code_tokens_list))"
   ]
  },
  {
   "cell_type": "code",
   "execution_count": 74,
   "metadata": {},
   "outputs": [
    {
     "name": "stdout",
     "output_type": "stream",
     "text": [
      "Number of unique tokens in code: 131762\n"
     ]
    }
   ],
   "source": [
    "unique_code_tokens_list = list(set(code_tokens_list))\n",
    "print('Number of unique tokens in code:', len(unique_code_tokens_list))"
   ]
  },
  {
   "cell_type": "markdown",
   "metadata": {},
   "source": [
    "Docstrings:"
   ]
  },
  {
   "cell_type": "code",
   "execution_count": 75,
   "metadata": {},
   "outputs": [
    {
     "name": "stdout",
     "output_type": "stream",
     "text": [
      "274582\n"
     ]
    }
   ],
   "source": [
    "docstring_tokens_list = joined_df['docstring_tokens'].tolist()\n",
    "docstring_tokens_list = [item for sublist in docstring_tokens_list for item in sublist]\n",
    "print(len(docstring_tokens_list))"
   ]
  },
  {
   "cell_type": "code",
   "execution_count": 76,
   "metadata": {},
   "outputs": [
    {
     "name": "stdout",
     "output_type": "stream",
     "text": [
      "Number of unique tokens in docstrings: 35072\n"
     ]
    }
   ],
   "source": [
    "unique_docstring_tokens_list = list(set(docstring_tokens_list))\n",
    "print('Number of unique tokens in docstrings:', len(unique_docstring_tokens_list))"
   ]
  },
  {
   "cell_type": "markdown",
   "metadata": {},
   "source": [
    "### Top frequent tokens"
   ]
  },
  {
   "cell_type": "code",
   "execution_count": 92,
   "metadata": {},
   "outputs": [],
   "source": [
    "TOP_COUNT = 30"
   ]
  },
  {
   "cell_type": "markdown",
   "metadata": {},
   "source": [
    "Codes"
   ]
  },
  {
   "cell_type": "code",
   "execution_count": 95,
   "metadata": {},
   "outputs": [
    {
     "name": "stdout",
     "output_type": "stream",
     "text": [
      "[('{', 34259), ('}', 34059), ('=', 21039), ('return', 13353), ('public', 11950), ('if', 9778), ('new', 7406), ('void', 6699), ('String', 4330), ('+', 3893), ('==', 3773), ('//', 3426), ('private', 3301), ('!=', 3208), ('null)', 3088), ('boolean', 2804), ('throws', 2795), (':', 2404), ('final', 2370), ('for', 2244), ('static', 2193), ('the', 2138), ('int', 2045), ('&&', 1926), ('try', 1897), ('else', 1797), ('null', 1785), ('null;', 1753), ('catch', 1662), ('throw', 1624)]\n"
     ]
    },
    {
     "data": {
      "text/plain": [
       "<Axes: >"
      ]
     },
     "execution_count": 95,
     "metadata": {},
     "output_type": "execute_result"
    },
    {
     "data": {
      "image/png": "[encoded data removed]",
      "text/plain": [
       "<Figure size 1000x1000 with 1 Axes>"
      ]
     },
     "metadata": {},
     "output_type": "display_data"
    }
   ],
   "source": [
    "token_counts = Counter(code_tokens_list)\n",
    "\n",
    "\n",
    "plt.figure(figsize=(10, 10))\n",
    "sns.barplot(y=[x[0] for x in token_counts.most_common(TOP_COUNT)],\n",
    "            x=[x[1] for x in token_counts.most_common(TOP_COUNT)])"
   ]
  },
  {
   "cell_type": "code",
   "execution_count": 99,
   "metadata": {},
   "outputs": [
    {
     "name": "stdout",
     "output_type": "stream",
     "text": [
      "[('{', 34259),\n",
      " ('}', 34059),\n",
      " ('=', 21039),\n",
      " ('return', 13353),\n",
      " ('public', 11950),\n",
      " ('if', 9778),\n",
      " ('new', 7406),\n",
      " ('void', 6699),\n",
      " ('String', 4330),\n",
      " ('+', 3893),\n",
      " ('==', 3773),\n",
      " ('//', 3426),\n",
      " ('private', 3301),\n",
      " ('!=', 3208),\n",
      " ('null)', 3088),\n",
      " ('boolean', 2804),\n",
      " ('throws', 2795),\n",
      " (':', 2404),\n",
      " ('final', 2370),\n",
      " ('for', 2244),\n",
      " ('static', 2193),\n",
      " ('the', 2138),\n",
      " ('int', 2045),\n",
      " ('&&', 1926),\n",
      " ('try', 1897),\n",
      " ('else', 1797),\n",
      " ('null', 1785),\n",
      " ('null;', 1753),\n",
      " ('catch', 1662),\n",
      " ('throw', 1624)]\n"
     ]
    }
   ],
   "source": [
    "pprint(token_counts.most_common(TOP_COUNT))"
   ]
  },
  {
   "cell_type": "markdown",
   "metadata": {},
   "source": [
    "Docstrings"
   ]
  },
  {
   "cell_type": "code",
   "execution_count": 100,
   "metadata": {},
   "outputs": [
    {
     "data": {
      "text/plain": [
       "<Axes: >"
      ]
     },
     "execution_count": 100,
     "metadata": {},
     "output_type": "execute_result"
    },
    {
     "data": {
      "image/png": "[encoded data removed]",
      "text/plain": [
       "<Figure size 1000x1000 with 1 Axes>"
      ]
     },
     "metadata": {},
     "output_type": "display_data"
    }
   ],
   "source": [
    "token_counts = Counter(docstring_tokens_list)\n",
    "\n",
    "plt.figure(figsize=(10, 10))\n",
    "sns.barplot(y=[x[0] for x in token_counts.most_common(TOP_COUNT)],\n",
    "            x=[x[1] for x in token_counts.most_common(TOP_COUNT)])"
   ]
  },
  {
   "cell_type": "code",
   "execution_count": 101,
   "metadata": {},
   "outputs": [
    {
     "name": "stdout",
     "output_type": "stream",
     "text": [
      "[('the', 12298),\n",
      " ('to', 7612),\n",
      " ('this', 5480),\n",
      " ('is', 5339),\n",
      " ('be', 4890),\n",
      " ('a', 4499),\n",
      " ('in', 3367),\n",
      " ('it', 3272),\n",
      " ('of', 3161),\n",
      " ('and', 2922),\n",
      " ('I', 2836),\n",
      " ('not', 2823),\n",
      " ('we', 2734),\n",
      " ('you', 2725),\n",
      " ('should', 2328),\n",
      " ('if', 2289),\n",
      " ('that', 2226),\n",
      " ('for', 2224),\n",
      " ('can', 1894),\n",
      " ('return', 1664),\n",
      " ('use', 1532),\n",
      " ('need', 1506),\n",
      " ('as', 1489),\n",
      " ('This', 1435),\n",
      " ('```', 1252),\n",
      " ('method', 1247),\n",
      " ('with', 1236),\n",
      " ('just', 1213),\n",
      " ('would', 1181),\n",
      " ('an', 1167)]\n"
     ]
    }
   ],
   "source": [
    "pprint(token_counts.most_common(TOP_COUNT))"
   ]
  },
  {
   "cell_type": "markdown",
   "metadata": {},
   "source": [
    "## Summary"
   ]
  },
  {
   "cell_type": "markdown",
   "metadata": {},
   "source": [
    "This is dataset is reasonably splited. However, these information still can't give any leap idea for next step."
   ]
  }
 ],
 "metadata": {
  "kernelspec": {
   "display_name": ".venv",
   "language": "python",
   "name": "python3"
  },
  "language_info": {
   "codemirror_mode": {
    "name": "ipython",
    "version": 3
   },
   "file_extension": ".py",
   "mimetype": "text/x-python",
   "name": "python",
   "nbconvert_exporter": "python",
   "pygments_lexer": "ipython3",
   "version": "3.12.3"
  }
 },
 "nbformat": 4,
 "nbformat_minor": 2
}
